{
 "cells": [
  {
   "cell_type": "code",
   "execution_count": 5,
   "id": "0e475cae",
   "metadata": {},
   "outputs": [],
   "source": [
    "\n",
    "import tensorflow as tf\n",
    "from keras._tf_keras.keras.preprocessing.image import ImageDataGenerator"
   ]
  },
  {
   "cell_type": "code",
   "execution_count": null,
   "id": "66c9eed6-2533-480f-8e4a-0662fbd274b9",
   "metadata": {},
   "outputs": [],
   "source": [
    "# pip install tensorflow --upgrade"
   ]
  },
  {
   "cell_type": "code",
   "execution_count": 6,
   "id": "447a33a4",
   "metadata": {},
   "outputs": [
    {
     "name": "stdout",
     "output_type": "stream",
     "text": [
      "Found 557 images belonging to 2 classes.\n"
     ]
    }
   ],
   "source": [
    "train_datagen = ImageDataGenerator(rescale = 1./255,\n",
    "                                  shear_range = 0.2,\n",
    "                                  zoom_range = 0.2,\n",
    "                                  horizontal_flip = True)\n",
    "training_set = train_datagen.flow_from_directory('D:/Cat_and_Dog/train',\n",
    "                                                target_size = (64,64),\n",
    "                                                batch_size = 32,\n",
    "                                                class_mode = 'binary')"
   ]
  },
  {
   "cell_type": "code",
   "execution_count": null,
   "id": "78aab428",
   "metadata": {},
   "outputs": [],
   "source": [
    "test_datagen = ImageDataGenerator(rescale = 1./255,\n",
    "                                  shear_range = 0.2,\n",
    "                                  zoom_range = 0.2,\n",
    "                                  horizontal_flip = True)\n",
    "test_set = test_datagen.flow_from_directory('D:/Cat_and_Dog/test',\n",
    "                                                target_size = (64,64),\n",
    "                                                batch_size = 32,\n",
    "                                                class_mode = 'binary')"
   ]
  },
  {
   "cell_type": "code",
   "execution_count": null,
   "id": "6e1b868d",
   "metadata": {},
   "outputs": [],
   "source": [
    "cnn = tf.keras.models.Sequential()"
   ]
  },
  {
   "cell_type": "code",
   "execution_count": null,
   "id": "f7694db2",
   "metadata": {},
   "outputs": [],
   "source": [
    "# Fisrt layer\n",
    "cnn.add(tf.keras.layers.Conv2D(filters=32,kernel_size=3,\n",
    "                               activation='relu',input_shape=[64,64,3]))"
   ]
  },
  {
   "cell_type": "code",
   "execution_count": null,
   "id": "10edeed3",
   "metadata": {},
   "outputs": [],
   "source": [
    "# Pooling\n",
    "cnn.add(tf.keras.layers.MaxPool2D(pool_size=2,strides=2))"
   ]
  },
  {
   "cell_type": "code",
   "execution_count": null,
   "id": "e2763704",
   "metadata": {},
   "outputs": [],
   "source": [
    "# Second Layer\n",
    "cnn.add(tf.keras.layers.Conv2D(filters=32,kernel_size=3,\n",
    "                               activation='relu',input_shape=[64,64,3]))\n",
    "cnn.add(tf.keras.layers.MaxPool2D(pool_size=2,strides=2))"
   ]
  },
  {
   "cell_type": "code",
   "execution_count": null,
   "id": "6c336ebf",
   "metadata": {},
   "outputs": [],
   "source": [
    "# Flattening\n",
    "cnn.add(tf.keras.layers.Flatten())"
   ]
  },
  {
   "cell_type": "code",
   "execution_count": null,
   "id": "2278209a",
   "metadata": {},
   "outputs": [],
   "source": [
    "# Full Connection\n",
    "cnn.add(tf.keras.layers.Dense(units = 128,activation='relu'))"
   ]
  },
  {
   "cell_type": "code",
   "execution_count": null,
   "id": "7c637c2a",
   "metadata": {},
   "outputs": [],
   "source": [
    "# Output Layers\n",
    "cnn.add(tf.keras.layers.Dense(units = 1,activation='sigmoid'))"
   ]
  },
  {
   "cell_type": "code",
   "execution_count": null,
   "id": "0bed73f3",
   "metadata": {},
   "outputs": [],
   "source": [
    "cnn.summary()"
   ]
  },
  {
   "cell_type": "code",
   "execution_count": null,
   "id": "137b1b0b",
   "metadata": {},
   "outputs": [],
   "source": [
    "# Training the CNN\n",
    "cnn.compile(optimizer='adam',loss='binary_crossentropy',metrics=['accuracy'])"
   ]
  },
  {
   "cell_type": "code",
   "execution_count": null,
   "id": "9d856b0b",
   "metadata": {},
   "outputs": [],
   "source": [
    "cnn.fit(x = training_set,validation_data= test_set,epochs=25)"
   ]
  },
  {
   "cell_type": "code",
   "execution_count": null,
   "id": "de4933b2",
   "metadata": {},
   "outputs": [],
   "source": [
    "import numpy as np"
   ]
  },
  {
   "cell_type": "code",
   "execution_count": null,
   "id": "f720a75c",
   "metadata": {},
   "outputs": [],
   "source": [
    "test_image = tf.keras.utils.load_img('D:/Cat_and_Dog/test/cats/cat_56.jpg',\n",
    "                                    target_size = (64,64))\n",
    "test_image"
   ]
  },
  {
   "cell_type": "code",
   "execution_count": null,
   "id": "4b334e19",
   "metadata": {},
   "outputs": [],
   "source": [
    "img_arr = tf.keras.utils.img_to_array(test_image)\n",
    "print(img_arr.shape)\n",
    "img_arr"
   ]
  },
  {
   "cell_type": "code",
   "execution_count": null,
   "id": "3860479f",
   "metadata": {},
   "outputs": [],
   "source": [
    "img_arr = np.expand_dims(img_arr,axis=0)\n",
    "print(img_arr.shape)\n",
    "img_arr"
   ]
  },
  {
   "cell_type": "code",
   "execution_count": null,
   "id": "721fa879",
   "metadata": {},
   "outputs": [],
   "source": [
    "result = cnn.predict(img_arr)\n",
    "result"
   ]
  },
  {
   "cell_type": "code",
   "execution_count": null,
   "id": "f0e2c17e",
   "metadata": {},
   "outputs": [],
   "source": [
    "if result[0][0] == 0:\n",
    "    print('Cat')\n",
    "else:\n",
    "    print('Dog')"
   ]
  },
  {
   "cell_type": "code",
   "execution_count": null,
   "id": "efe89a5e",
   "metadata": {},
   "outputs": [],
   "source": []
  }
 ],
 "metadata": {
  "kernelspec": {
   "display_name": "Python 3 (ipykernel)",
   "language": "python",
   "name": "python3"
  },
  "language_info": {
   "codemirror_mode": {
    "name": "ipython",
    "version": 3
   },
   "file_extension": ".py",
   "mimetype": "text/x-python",
   "name": "python",
   "nbconvert_exporter": "python",
   "pygments_lexer": "ipython3",
   "version": "3.9.20"
  }
 },
 "nbformat": 4,
 "nbformat_minor": 5
}
